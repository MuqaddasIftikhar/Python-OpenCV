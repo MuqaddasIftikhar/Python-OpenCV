{
 "cells": [
  {
   "cell_type": "markdown",
   "id": "7f385747",
   "metadata": {},
   "source": [
    "# Saving and Writing an Image"
   ]
  },
  {
   "cell_type": "code",
   "execution_count": 8,
   "id": "9b33bb00",
   "metadata": {},
   "outputs": [],
   "source": [
    "import cv2 as cv"
   ]
  },
  {
   "cell_type": "code",
   "execution_count": 9,
   "id": "1f7fe520",
   "metadata": {},
   "outputs": [],
   "source": [
    "img=cv.imread(\"resources/image.jpg\")"
   ]
  },
  {
   "cell_type": "code",
   "execution_count": 10,
   "id": "da6a7e68",
   "metadata": {},
   "outputs": [],
   "source": [
    "gray=cv.cvtColor(img, cv.COLOR_BGR2GRAY)"
   ]
  },
  {
   "cell_type": "code",
   "execution_count": 11,
   "id": "87571cb3",
   "metadata": {},
   "outputs": [],
   "source": [
    "(thresh, binary)=cv.threshold(gray, 127, 255, cv.THRESH_BINARY)"
   ]
  },
  {
   "cell_type": "code",
   "execution_count": 12,
   "id": "c4aa97dd",
   "metadata": {},
   "outputs": [],
   "source": [
    "img=cv.resize(binary, (600, 400), fx=0.1, fy=0.1)"
   ]
  },
  {
   "cell_type": "code",
   "execution_count": 14,
   "id": "312662ab",
   "metadata": {},
   "outputs": [],
   "source": [
    "imwrite=(\"Gray Image.jpg\", gray)"
   ]
  },
  {
   "cell_type": "code",
   "execution_count": 15,
   "id": "b6d447eb",
   "metadata": {},
   "outputs": [],
   "source": [
    "imwrite=(\"Black and White.jpg\", binary)\n"
   ]
  },
  {
   "cell_type": "code",
   "execution_count": 16,
   "id": "bebb45b8",
   "metadata": {},
   "outputs": [
    {
     "data": {
      "text/plain": [
       "-1"
      ]
     },
     "execution_count": 16,
     "metadata": {},
     "output_type": "execute_result"
    }
   ],
   "source": [
    "cv.waitKey(0)"
   ]
  },
  {
   "cell_type": "code",
   "execution_count": null,
   "id": "afb2951a",
   "metadata": {},
   "outputs": [],
   "source": []
  }
 ],
 "metadata": {
  "kernelspec": {
   "display_name": "Python 3 (ipykernel)",
   "language": "python",
   "name": "python3"
  },
  "language_info": {
   "codemirror_mode": {
    "name": "ipython",
    "version": 3
   },
   "file_extension": ".py",
   "mimetype": "text/x-python",
   "name": "python",
   "nbconvert_exporter": "python",
   "pygments_lexer": "ipython3",
   "version": "3.10.9"
  }
 },
 "nbformat": 4,
 "nbformat_minor": 5
}
