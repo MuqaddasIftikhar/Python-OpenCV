{
 "cells": [
  {
   "cell_type": "markdown",
   "id": "9ca161e2",
   "metadata": {},
   "source": [
    "# Image Reading, Resizing, Display & GrayScale"
   ]
  },
  {
   "cell_type": "code",
   "execution_count": null,
   "id": "edac1a43",
   "metadata": {},
   "outputs": [],
   "source": [
    "import cv2 as cv"
   ]
  },
  {
   "cell_type": "code",
   "execution_count": null,
   "id": "6bf45465",
   "metadata": {},
   "outputs": [],
   "source": [
    "image=cv.imread(\"resources/image.jpg\")"
   ]
  },
  {
   "cell_type": "code",
   "execution_count": null,
   "id": "f1e2b788",
   "metadata": {},
   "outputs": [],
   "source": [
    "cv.resize(image, (800, 600))"
   ]
  },
  {
   "cell_type": "code",
   "execution_count": null,
   "id": "fb632d23",
   "metadata": {},
   "outputs": [],
   "source": [
    "cv.imshow(\"My First Image\", image)"
   ]
  },
  {
   "cell_type": "code",
   "execution_count": null,
   "id": "1c839727",
   "metadata": {},
   "outputs": [],
   "source": [
    "gray_image=cv.cvtColor(image, cv.COLOR_BRG2GRAY)"
   ]
  },
  {
   "cell_type": "code",
   "execution_count": null,
   "id": "0a46dc1e",
   "metadata": {},
   "outputs": [],
   "source": [
    "cv.imshow(\"Grayscale\", gray_image)"
   ]
  },
  {
   "cell_type": "code",
   "execution_count": null,
   "id": "25bee65c",
   "metadata": {},
   "outputs": [],
   "source": [
    "cv.waitKey(0)"
   ]
  },
  {
   "cell_type": "code",
   "execution_count": null,
   "id": "8fd7da0c",
   "metadata": {},
   "outputs": [],
   "source": [
    "import cv2 as cv"
   ]
  },
  {
   "cell_type": "code",
   "execution_count": null,
   "id": "03fe4e53",
   "metadata": {},
   "outputs": [],
   "source": [
    "image=cv.imread(\"resources/image,jpg\")"
   ]
  },
  {
   "cell_type": "code",
   "execution_count": null,
   "id": "1142354a",
   "metadata": {},
   "outputs": [],
   "source": [
    "cv.resize(image, (800, 600))"
   ]
  },
  {
   "cell_type": "code",
   "execution_count": null,
   "id": "84348941",
   "metadata": {},
   "outputs": [],
   "source": [
    "image=cv.imshow(\"My First Image\", image)"
   ]
  },
  {
   "cell_type": "code",
   "execution_count": null,
   "id": "e0a0b31c",
   "metadata": {},
   "outputs": [],
   "source": [
    "gray_image=cv.cvtColor(image, cv.COLOR_RGB2GRAY)"
   ]
  },
  {
   "cell_type": "code",
   "execution_count": null,
   "id": "942591e9",
   "metadata": {},
   "outputs": [],
   "source": [
    "cv.imshow(\"GrayScale\", gray_image)"
   ]
  },
  {
   "cell_type": "code",
   "execution_count": null,
   "id": "9fc7d622",
   "metadata": {},
   "outputs": [],
   "source": [
    "cv.waitKey(0)"
   ]
  },
  {
   "cell_type": "code",
   "execution_count": 1,
   "id": "592c9231",
   "metadata": {},
   "outputs": [],
   "source": [
    "import cv2 as cv"
   ]
  },
  {
   "cell_type": "code",
   "execution_count": 2,
   "id": "d9c1c247",
   "metadata": {},
   "outputs": [],
   "source": [
    "image=cv.imread(\"resources/image.jpg\")"
   ]
  },
  {
   "cell_type": "code",
   "execution_count": 10,
   "id": "c9fc5f44",
   "metadata": {},
   "outputs": [],
   "source": [
    "image=cv.resize(image, (500, 400), fx=0.1, fy=0.1)"
   ]
  },
  {
   "cell_type": "code",
   "execution_count": 11,
   "id": "22b42596",
   "metadata": {},
   "outputs": [],
   "source": [
    "cv.imshow(\"Khanpur Dam\", image)"
   ]
  },
  {
   "cell_type": "code",
   "execution_count": 12,
   "id": "84ce6717",
   "metadata": {},
   "outputs": [],
   "source": [
    "gray_image=cv.cvtColor(image, cv.COLOR_RGB2GRAY)"
   ]
  },
  {
   "cell_type": "code",
   "execution_count": 13,
   "id": "f72ea874",
   "metadata": {},
   "outputs": [],
   "source": [
    "cv.imshow(\"Grayscale\", gray_image)"
   ]
  },
  {
   "cell_type": "code",
   "execution_count": null,
   "id": "28cd2ddb",
   "metadata": {},
   "outputs": [],
   "source": [
    "cv.waitKey(0)"
   ]
  },
  {
   "cell_type": "code",
   "execution_count": null,
   "id": "272a1e96",
   "metadata": {},
   "outputs": [],
   "source": []
  }
 ],
 "metadata": {
  "kernelspec": {
   "display_name": "Python 3 (ipykernel)",
   "language": "python",
   "name": "python3"
  },
  "language_info": {
   "codemirror_mode": {
    "name": "ipython",
    "version": 3
   },
   "file_extension": ".py",
   "mimetype": "text/x-python",
   "name": "python",
   "nbconvert_exporter": "python",
   "pygments_lexer": "ipython3",
   "version": "3.10.9"
  }
 },
 "nbformat": 4,
 "nbformat_minor": 5
}
