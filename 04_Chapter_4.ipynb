{
 "cells": [
  {
   "cell_type": "markdown",
   "id": "28938089",
   "metadata": {},
   "source": [
    "# Convert an image into Black and White"
   ]
  },
  {
   "cell_type": "code",
   "execution_count": null,
   "id": "c5535d07",
   "metadata": {},
   "outputs": [],
   "source": [
    "import cv2 as cv"
   ]
  },
  {
   "cell_type": "code",
   "execution_count": null,
   "id": "ff440d00",
   "metadata": {},
   "outputs": [],
   "source": [
    "img=cv.imread(\"resources/image.jpg\")"
   ]
  },
  {
   "cell_type": "code",
   "execution_count": null,
   "id": "7caf944f",
   "metadata": {},
   "outputs": [],
   "source": [
    "img=cv.resize(img, (600, 400), fx=0.1, fy=0.1)"
   ]
  },
  {
   "cell_type": "code",
   "execution_count": null,
   "id": "9d996a97",
   "metadata": {},
   "outputs": [],
   "source": [
    "gray_image=cv.cvtColor(img, cv.COLOR_BGR2GRAY)"
   ]
  },
  {
   "cell_type": "code",
   "execution_count": null,
   "id": "cc7b4182",
   "metadata": {},
   "outputs": [],
   "source": [
    "(thresh, binary)=cv.threshold(gray_image, 127, 255, cv.THRESH_BINARY)"
   ]
  },
  {
   "cell_type": "code",
   "execution_count": null,
   "id": "36e12b38",
   "metadata": {},
   "outputs": [],
   "source": [
    "cv.imshow(\"Black and White\", binary)"
   ]
  },
  {
   "cell_type": "code",
   "execution_count": null,
   "id": "2cc61851",
   "metadata": {},
   "outputs": [],
   "source": [
    "cv.imshow(\"Gray Image\", gray_image)"
   ]
  },
  {
   "cell_type": "code",
   "execution_count": null,
   "id": "a56eb251",
   "metadata": {},
   "outputs": [],
   "source": [
    "cv.imshow(\"My First Image\", img)"
   ]
  },
  {
   "cell_type": "code",
   "execution_count": null,
   "id": "e3aec196",
   "metadata": {},
   "outputs": [],
   "source": [
    "cv.waitKey(0)"
   ]
  },
  {
   "cell_type": "code",
   "execution_count": null,
   "id": "3c093c03",
   "metadata": {},
   "outputs": [],
   "source": []
  }
 ],
 "metadata": {
  "kernelspec": {
   "display_name": "Python 3 (ipykernel)",
   "language": "python",
   "name": "python3"
  },
  "language_info": {
   "codemirror_mode": {
    "name": "ipython",
    "version": 3
   },
   "file_extension": ".py",
   "mimetype": "text/x-python",
   "name": "python",
   "nbconvert_exporter": "python",
   "pygments_lexer": "ipython3",
   "version": "3.10.9"
  }
 },
 "nbformat": 4,
 "nbformat_minor": 5
}
